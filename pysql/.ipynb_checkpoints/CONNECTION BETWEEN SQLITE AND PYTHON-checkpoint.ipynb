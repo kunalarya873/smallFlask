{
 "cells": [
  {
   "cell_type": "code",
   "execution_count": 1,
   "id": "6b0ba9dd",
   "metadata": {},
   "outputs": [],
   "source": [
    "import sqlite3"
   ]
  },
  {
   "cell_type": "code",
   "execution_count": 3,
   "id": "d4b0b0d3",
   "metadata": {},
   "outputs": [
    {
     "data": {
      "text/plain": [
       "sqlite3.Connection"
      ]
     },
     "execution_count": 3,
     "metadata": {},
     "output_type": "execute_result"
    }
   ],
   "source": [
    "conn = sqlite3.connect('student.db')\n",
    "type(conn)"
   ]
  },
  {
   "cell_type": "code",
   "execution_count": 8,
   "id": "b60430a2",
   "metadata": {},
   "outputs": [],
   "source": [
    "c = conn.cursor()"
   ]
  },
  {
   "cell_type": "code",
   "execution_count": 10,
   "id": "001ed29f",
   "metadata": {},
   "outputs": [
    {
     "data": {
      "text/plain": [
       "<sqlite3.Cursor at 0x106af1140>"
      ]
     },
     "execution_count": 10,
     "metadata": {},
     "output_type": "execute_result"
    }
   ],
   "source": [
    "c.execute(\"\"\"CREATE TABLE info(\n",
    "                name TEXT,\n",
    "                studentid INTEGER PRIMARY KEY NOT NULL,\n",
    "                dob TEXT,\n",
    "                address TEXT,\n",
    "                gender TEXT\n",
    "                )\"\"\")"
   ]
  },
  {
   "cell_type": "code",
   "execution_count": 11,
   "id": "35628acc",
   "metadata": {},
   "outputs": [],
   "source": [
    "conn.commit()"
   ]
  },
  {
   "cell_type": "code",
   "execution_count": 12,
   "id": "0266a923",
   "metadata": {},
   "outputs": [],
   "source": [
    "manyusers = [\n",
    "                ('John Brown',111,'01-01-1985','Austin, TX','male'),\n",
    "                ('John Green',222, '07-02-1985','Long Island, NY','male'),\n",
    "                ('Helga Schwarz', 333, '01-03-1986','Berlin, DE', 'female'),\n",
    "                ('Ken Buru', 444, '08-04-1990','Tokyo, JP', 'male'),\n",
    "                ('Maria Giallo', 555, '10-17-1983', 'Rome, IT', 'female')\n",
    "            ]"
   ]
  },
  {
   "cell_type": "code",
   "execution_count": 13,
   "id": "2b5be05a",
   "metadata": {},
   "outputs": [
    {
     "data": {
      "text/plain": [
       "<sqlite3.Cursor at 0x106af1140>"
      ]
     },
     "execution_count": 13,
     "metadata": {},
     "output_type": "execute_result"
    }
   ],
   "source": [
    "c.executemany(\"INSERT INTO info VALUES(?,?,?,?,?)\", manyusers)"
   ]
  },
  {
   "cell_type": "code",
   "execution_count": 14,
   "id": "c13d8014",
   "metadata": {},
   "outputs": [],
   "source": [
    "conn.commit()"
   ]
  },
  {
   "cell_type": "code",
   "execution_count": 18,
   "id": "ca9d5824",
   "metadata": {},
   "outputs": [
    {
     "data": {
      "text/plain": [
       "<sqlite3.Cursor at 0x106af1140>"
      ]
     },
     "execution_count": 18,
     "metadata": {},
     "output_type": "execute_result"
    }
   ],
   "source": [
    "c.execute(\"\"\"PRAGMA foreign_keys=ON\"\"\")"
   ]
  },
  {
   "cell_type": "code",
   "execution_count": null,
   "id": "6e753e08",
   "metadata": {},
   "outputs": [],
   "source": []
  }
 ],
 "metadata": {
  "kernelspec": {
   "display_name": "Python 3 (ipykernel)",
   "language": "python",
   "name": "python3"
  },
  "language_info": {
   "codemirror_mode": {
    "name": "ipython",
    "version": 3
   },
   "file_extension": ".py",
   "mimetype": "text/x-python",
   "name": "python",
   "nbconvert_exporter": "python",
   "pygments_lexer": "ipython3",
   "version": "3.10.9"
  }
 },
 "nbformat": 4,
 "nbformat_minor": 5
}
