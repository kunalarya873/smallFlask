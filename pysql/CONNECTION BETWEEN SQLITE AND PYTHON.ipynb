{
 "cells": [
  {
   "cell_type": "code",
   "execution_count": 1,
   "id": "b0e1b32e",
   "metadata": {},
   "outputs": [],
   "source": [
    "import sqlite3"
   ]
  },
  {
   "cell_type": "code",
   "execution_count": 3,
   "id": "f0b30c09",
   "metadata": {},
   "outputs": [
    {
     "data": {
      "text/plain": [
       "sqlite3.Connection"
      ]
     },
     "execution_count": 3,
     "metadata": {},
     "output_type": "execute_result"
    }
   ],
   "source": [
    "conn = sqlite3.connect('student.db')\n",
    "type(conn)"
   ]
  },
  {
   "cell_type": "code",
   "execution_count": 8,
   "id": "def16746",
   "metadata": {},
   "outputs": [],
   "source": [
    "c = conn.cursor()"
   ]
  },
  {
   "cell_type": "code",
   "execution_count": 10,
   "id": "06d35873",
   "metadata": {},
   "outputs": [
    {
     "data": {
      "text/plain": [
       "<sqlite3.Cursor at 0x106af1140>"
      ]
     },
     "execution_count": 10,
     "metadata": {},
     "output_type": "execute_result"
    }
   ],
   "source": [
    "c.execute(\"\"\"CREATE TABLE info(\n",
    "                name TEXT,\n",
    "                studentid INTEGER PRIMARY KEY NOT NULL,\n",
    "                dob TEXT,\n",
    "                address TEXT,\n",
    "                gender TEXT\n",
    "                )\"\"\")"
   ]
  },
  {
   "cell_type": "code",
   "execution_count": 11,
   "id": "d091db2c",
   "metadata": {},
   "outputs": [],
   "source": [
    "conn.commit()"
   ]
  },
  {
   "cell_type": "code",
   "execution_count": 12,
   "id": "622e8c26",
   "metadata": {},
   "outputs": [],
   "source": [
    "manyusers = [\n",
    "                ('John Brown',111,'01-01-1985','Austin, TX','male'),\n",
    "                ('John Green',222, '07-02-1985','Long Island, NY','male'),\n",
    "                ('Helga Schwarz', 333, '01-03-1986','Berlin, DE', 'female'),\n",
    "                ('Ken Buru', 444, '08-04-1990','Tokyo, JP', 'male'),\n",
    "                ('Maria Giallo', 555, '10-17-1983', 'Rome, IT', 'female')\n",
    "            ]"
   ]
  },
  {
   "cell_type": "code",
   "execution_count": 13,
   "id": "d34ec12b",
   "metadata": {},
   "outputs": [
    {
     "data": {
      "text/plain": [
       "<sqlite3.Cursor at 0x106af1140>"
      ]
     },
     "execution_count": 13,
     "metadata": {},
     "output_type": "execute_result"
    }
   ],
   "source": [
    "c.executemany(\"INSERT INTO info VALUES(?,?,?,?,?)\", manyusers)"
   ]
  },
  {
   "cell_type": "code",
   "execution_count": 14,
   "id": "92fb45bc",
   "metadata": {},
   "outputs": [],
   "source": [
    "conn.commit()"
   ]
  },
  {
   "cell_type": "code",
   "execution_count": 18,
   "id": "99b31d8a",
   "metadata": {},
   "outputs": [
    {
     "data": {
      "text/plain": [
       "<sqlite3.Cursor at 0x106af1140>"
      ]
     },
     "execution_count": 18,
     "metadata": {},
     "output_type": "execute_result"
    }
   ],
   "source": [
    "c.execute(\"\"\"PRAGMA foreign_keys=ON\"\"\")"
   ]
  },
  {
   "cell_type": "code",
   "execution_count": 19,
   "id": "76e868bd",
   "metadata": {},
   "outputs": [],
   "source": [
    "conn.commit()"
   ]
  },
  {
   "cell_type": "code",
   "execution_count": 20,
   "id": "f150bb68",
   "metadata": {},
   "outputs": [
    {
     "data": {
      "text/plain": [
       "<sqlite3.Cursor at 0x106af1140>"
      ]
     },
     "execution_count": 20,
     "metadata": {},
     "output_type": "execute_result"
    }
   ],
   "source": [
    "c.execute(\"\"\"CREATE TABLE scores(\n",
    "                studentid INTEGER,\n",
    "                course_code TEXT,\n",
    "                score REAL,\n",
    "                FOREIGN KEY(studentid) REFERENCES info(studentid)\n",
    "                )\"\"\")"
   ]
  },
  {
   "cell_type": "code",
   "execution_count": 21,
   "id": "a92c25d7",
   "metadata": {},
   "outputs": [],
   "source": [
    "conn.commit()"
   ]
  },
  {
   "cell_type": "code",
   "execution_count": 22,
   "id": "69b4bc94",
   "metadata": {},
   "outputs": [],
   "source": [
    "manyscores = [\n",
    "                (111, 'CHEM101', 75.2),\n",
    "                (111, 'PHY101',  80.5),\n",
    "                (111, 'MATH101', 90.2),\n",
    "                (222, 'MATH101', 98.2),\n",
    "                (222, 'PHY101',  26.5),\n",
    "                (222, 'MATH101', 93.2),\n",
    "                (333, 'CHEM101', 64.2),\n",
    "                (333, 'MATH101', 74.5),\n",
    "                (444, 'MATH101', 76.2),\n",
    "                (555, 'CHEM101', 15.2),\n",
    "                (555, 'PHY101',  12.5)\n",
    "]"
   ]
  },
  {
   "cell_type": "code",
   "execution_count": 23,
   "id": "ed57e192",
   "metadata": {},
   "outputs": [
    {
     "data": {
      "text/plain": [
       "<sqlite3.Cursor at 0x106af1140>"
      ]
     },
     "execution_count": 23,
     "metadata": {},
     "output_type": "execute_result"
    }
   ],
   "source": [
    "c.executemany(\"INSERT INTO scores VALUES (?,?,?)\", manyscores)"
   ]
  },
  {
   "cell_type": "code",
   "execution_count": 24,
   "id": "a6ab2510",
   "metadata": {},
   "outputs": [],
   "source": [
    "conn.commit()"
   ]
  },
  {
   "cell_type": "code",
   "execution_count": 25,
   "id": "15ef123a",
   "metadata": {},
   "outputs": [
    {
     "data": {
      "text/plain": [
       "<sqlite3.Cursor at 0x106af1140>"
      ]
     },
     "execution_count": 25,
     "metadata": {},
     "output_type": "execute_result"
    }
   ],
   "source": [
    "c.execute(\"SELECT * FROM info\")"
   ]
  },
  {
   "cell_type": "code",
   "execution_count": 26,
   "id": "af87d91e",
   "metadata": {},
   "outputs": [
    {
     "data": {
      "text/plain": [
       "[('John Brown', 111, '01-01-1985', 'Austin, TX', 'male'),\n",
       " ('John Green', 222, '07-02-1985', 'Long Island, NY', 'male'),\n",
       " ('Helga Schwarz', 333, '01-03-1986', 'Berlin, DE', 'female'),\n",
       " ('Ken Buru', 444, '08-04-1990', 'Tokyo, JP', 'male'),\n",
       " ('Maria Giallo', 555, '10-17-1983', 'Rome, IT', 'female')]"
      ]
     },
     "execution_count": 26,
     "metadata": {},
     "output_type": "execute_result"
    }
   ],
   "source": [
    "c.fetchall()"
   ]
  },
  {
   "cell_type": "code",
   "execution_count": 28,
   "id": "7d049e5b",
   "metadata": {},
   "outputs": [
    {
     "name": "stdout",
     "output_type": "stream",
     "text": [
      "John Brown\n",
      "111\n",
      "01-01-1985\n",
      "Austin, TX\n",
      "male\n",
      "\n",
      "\n",
      "John Green\n",
      "222\n",
      "07-02-1985\n",
      "Long Island, NY\n",
      "male\n",
      "\n",
      "\n",
      "Helga Schwarz\n",
      "333\n",
      "01-03-1986\n",
      "Berlin, DE\n",
      "female\n",
      "\n",
      "\n",
      "Ken Buru\n",
      "444\n",
      "08-04-1990\n",
      "Tokyo, JP\n",
      "male\n",
      "\n",
      "\n",
      "Maria Giallo\n",
      "555\n",
      "10-17-1983\n",
      "Rome, IT\n",
      "female\n",
      "\n",
      "\n"
     ]
    }
   ],
   "source": [
    "c.execute(\"SELECT * FROM info\") \n",
    "for each in c.fetchall():\n",
    "    for each_element in each: \n",
    "        print(each_element)\n",
    "    print(\"\\n\")  "
   ]
  },
  {
   "cell_type": "code",
   "execution_count": null,
   "id": "da36c89c",
   "metadata": {},
   "outputs": [],
   "source": []
  }
 ],
 "metadata": {
  "kernelspec": {
   "display_name": "Python 3 (ipykernel)",
   "language": "python",
   "name": "python3"
  },
  "language_info": {
   "codemirror_mode": {
    "name": "ipython",
    "version": 3
   },
   "file_extension": ".py",
   "mimetype": "text/x-python",
   "name": "python",
   "nbconvert_exporter": "python",
   "pygments_lexer": "ipython3",
   "version": "3.10.9"
  }
 },
 "nbformat": 4,
 "nbformat_minor": 5
}
